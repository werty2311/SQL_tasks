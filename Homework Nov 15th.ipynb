{
 "cells": [
  {
   "cell_type": "code",
   "execution_count": 133,
   "id": "415b2f26-56f2-4236-a5a2-a2e1ba4e2d35",
   "metadata": {},
   "outputs": [
    {
     "name": "stdout",
     "output_type": "stream",
     "text": [
      "Requirement already satisfied: psycopg2 in c:\\education\\lib\\site-packages (2.9.5)\n",
      "Note: you may need to restart the kernel to use updated packages.\n"
     ]
    },
    {
     "name": "stderr",
     "output_type": "stream",
     "text": [
      "\n",
      "[notice] A new release of pip available: 22.3 -> 22.3.1\n",
      "[notice] To update, run: python.exe -m pip install --upgrade pip\n"
     ]
    }
   ],
   "source": [
    "%pip install psycopg2"
   ]
  },
  {
   "cell_type": "code",
   "execution_count": 195,
   "id": "9652fc12-39ad-4fd4-93bd-b2162986f91f",
   "metadata": {},
   "outputs": [
    {
     "name": "stdout",
     "output_type": "stream",
     "text": [
      "0 (13754, 'postgres', 10, 6, 'Russian_Russia.1251', 'Russian_Russia.1251', False, True, -1, 13753, '727', '1', 1663, None)\n",
      "1 (16394, 'myfirstdb', 10, 6, 'Russian_Russia.1251', 'Russian_Russia.1251', False, True, -1, 13753, '727', '1', 1663, None)\n",
      "2 (1, 'template1', 10, 6, 'Russian_Russia.1251', 'Russian_Russia.1251', True, True, -1, 13753, '727', '1', 1663, '{=c/postgres,postgres=CTc/postgres}')\n",
      "3 (13753, 'template0', 10, 6, 'Russian_Russia.1251', 'Russian_Russia.1251', True, False, -1, 13753, '727', '1', 1663, '{=c/postgres,postgres=CTc/postgres}')\n",
      "4 (16406, 'testdb', 10, 6, 'Russian_Russia.1251', 'Russian_Russia.1251', False, True, -1, 13753, '727', '1', 1663, None)\n",
      "5 (16407, 'testdb_1', 10, 6, 'Russian_Russia.1251', 'Russian_Russia.1251', False, True, -1, 13753, '727', '1', 1663, None)\n",
      "6 (16408, 'testdb_2', 10, 6, 'Russian_Russia.1251', 'Russian_Russia.1251', False, True, -1, 13753, '727', '1', 1663, None)\n",
      "7 (16395, 'testdba', 10, 6, 'Russian_Russia.1251', 'Russian_Russia.1251', False, True, -1, 13753, '727', '1', 1663, '{=Tc/postgres,postgres=CTc/postgres,testusera=CTc/postgres,testuser_2=CTc/postgres}')\n"
     ]
    }
   ],
   "source": [
    "# Подключаем к наше программе модуль с предыдущего шага. Этот модуль будет повторяться всегда. \n",
    "# Мы импортируем модуль psycopg2 и называем его pg_driver для удобства\n",
    "import psycopg2 as pg_driver\n",
    "from psycopg2.extras import NamedTupleCursor\n",
    "\n",
    "\n",
    "# На данном шаге нам нужно попробовать подключить к нашей базе данных. При установке PostgreSQL вам предлагалось задать\n",
    "# пароль от базы данных по умолчанию, собственно ниже вам следует изменить только password='postgres', но не удаляйте кавычки, это важно\n",
    "db = pg_driver.connect(\n",
    "    database=\"testdb_2\", \n",
    "    user='testuser_2',\n",
    "    password='testuser_2', \n",
    "    host='localhost', \n",
    "    port='5432'\n",
    ")\n",
    "\n",
    "# Далее нам нужен курсор, который позволит нам непосредственно отправлять запросы на выполнения в БД. Эта строка всегда одинаковая\n",
    "cur = db.cursor()\n",
    "# Делаем запрос к таблице по умолчанию pg_database\n",
    "cur.execute(\"select * from pg_database\")\n",
    "\n",
    "# Чтобы извлечь результат выполнения запроса к таблице по умолчанию, необходимо воспользоваться методом .fetchall()\n",
    "rs = cur.fetchall()\n",
    "\n",
    "\n",
    "# enumerate позволяет красиво пронумеровать строки\n",
    "for row, values in enumerate(rs):\n",
    "    print(row, values)\n",
    "              "
   ]
  },
  {
   "cell_type": "code",
   "execution_count": 196,
   "id": "28c3c1a5-0933-44f0-84a2-f2fa62dbbdd9",
   "metadata": {},
   "outputs": [],
   "source": [
    "import psycopg2\n",
    "from psycopg2 import Error\n",
    "\n",
    "def execute_query(query, fetch_result=False):\n",
    "    try:\n",
    "        connection = psycopg2.connect(\n",
    "                                database=\"testdb_2\", \n",
    "                                user='testuser_2',\n",
    "                                password='testuser_2', \n",
    "                                host='localhost', \n",
    "                                port='5432'\n",
    "                     )\n",
    "        connection.autocommit = True\n",
    "    \n",
    "        cursor = connection.cursor(cursor_factory = NamedTupleCursor)\n",
    "        cursor.execute(query)\n",
    "        if fetch_result:\n",
    "            return cursor.fetchall()\n",
    "    except (Exception, Error) as error:\n",
    "        print(\"Error while connecting to PostgreSQL\", error)\n",
    "    finally:\n",
    "        if (connection):\n",
    "            cursor.close()\n",
    "            connection.close()"
   ]
  },
  {
   "cell_type": "code",
   "execution_count": 246,
   "id": "82a57253-86f2-4c30-a54f-d19557ac87a4",
   "metadata": {},
   "outputs": [
    {
     "name": "stdout",
     "output_type": "stream",
     "text": [
      "DROP TABLE IF EXISTS users;\n",
      "DROP TABLE IF EXISTS likes;\n",
      "CREATE TABLE users (\n",
      "                         user_id    INT       NOT NULL,\n",
      "                         name    TEXT       NOT NULL,\n",
      "                         surname TEXT  NOT NULL,\n",
      "                         created    TIMESTAMP NOT NULL\n",
      "                );\n",
      "                \n",
      "CREATE TABLE likes (\n",
      "                         user_id    INT       NOT NULL,\n",
      "                         created    TIMESTAMP NOT NULL,\n",
      "                         user_id_give    INT       NOT NULL\n",
      "                  );\n",
      "                \n"
     ]
    }
   ],
   "source": [
    "import psycopg2 as pg_driver\n",
    "\n",
    "db = psycopg2.connect(database=\"testdb_2\",\n",
    "                      user='testuser_2',\n",
    "                      password='testuser_2', \n",
    "                      host='localhost', \n",
    "                      port='5432'\n",
    "                )\n",
    "\n",
    "\n",
    "def execute_queries(db, sql_commands):\n",
    "    db.autocommit = True\n",
    "    # тот же самый курсор\n",
    "    with db.cursor() as cursor:\n",
    "        # в цикле поочередно выполняем запросы\n",
    "        for sql_command in sql_commands:\n",
    "            print(sql_command)\n",
    "            # тот же самый .execute() для выполнения запроса\n",
    "            cursor.execute(sql_command)\n",
    "\n",
    "\n",
    "sql_commands = [\"DROP TABLE IF EXISTS users;\",\n",
    "                \"DROP TABLE IF EXISTS likes;\",\n",
    "                \"\"\"CREATE TABLE users (\n",
    "                         user_id    INT       NOT NULL,\n",
    "                         name    TEXT       NOT NULL,\n",
    "                         surname TEXT  NOT NULL,\n",
    "                         created    TIMESTAMP NOT NULL\n",
    "                );\n",
    "                \"\"\",\n",
    "                \"\"\"CREATE TABLE likes (\n",
    "                         user_id    INT       NOT NULL,\n",
    "                         created    TIMESTAMP NOT NULL,\n",
    "                         user_id_give    INT       NOT NULL\n",
    "                  );\n",
    "                \"\"\"]\n",
    "\n",
    "\n",
    "execute_queries(db, sql_commands)"
   ]
  },
  {
   "cell_type": "code",
   "execution_count": 249,
   "id": "1d75b155-6a7c-444b-ba73-dfdae438288f",
   "metadata": {},
   "outputs": [
    {
     "name": "stdout",
     "output_type": "stream",
     "text": [
      "[Record(count=20)]\n",
      "[Record(count=0)]\n"
     ]
    }
   ],
   "source": [
    "import psycopg2\n",
    "from psycopg2 import Error\n",
    "from psycopg2.extras import NamedTupleCursor\n",
    "\n",
    "def execute_query(query, fetch_result=False):\n",
    "    try:\n",
    "        connection = pg_driver.connect(\n",
    "                        database=\"testdb_2\", \n",
    "                        user='testuser_2',\n",
    "                        password='testuser_2', \n",
    "                        host='localhost', \n",
    "                        port='5432'\n",
    "                    );\n",
    "        \n",
    "        connection.autocommit = True\n",
    "        cursor = connection.cursor(cursor_factory=NamedTupleCursor)\n",
    "        cursor.execute(query)\n",
    "        if fetch_result:\n",
    "            return cursor.fetchall()\n",
    "    except (Exception, Error) as error:\n",
    "        print(\"Error while connecting to PostgreSQL\", error)\n",
    "    finally:\n",
    "        if (connection):\n",
    "            cursor.close()\n",
    "            connection.close()\n",
    "row_count_hist = execute_query(\"select count(*) from users\", fetch_result=True)\n",
    "row_count_payment = execute_query(\"select count(*) from likes\", fetch_result=True)\n",
    "\n",
    "print(row_count_hist)\n",
    "print(row_count_payment)"
   ]
  },
  {
   "cell_type": "code",
   "execution_count": 248,
   "id": "c7ebe31e-7706-4379-930f-165fb36bb994",
   "metadata": {},
   "outputs": [],
   "source": [
    "query = \"\"\" insert into users (user_id, created, name, surname)\n",
    "            values\n",
    "                 (1, to_timestamp('20-01-2022 14:12:18', 'dd-mm-yyyy hh24:mi:ss'), 'Sean', 'Penn'),\n",
    "                 (2, to_timestamp('26-05-2018 04:51:44', 'dd-mm-yyyy hh24:mi:ss'), 'Tom', 'Cruise'),\n",
    "                 (3, to_timestamp('17-07-2020 09:47:32', 'dd-mm-yyyy hh24:mi:ss'), 'Paul', 'Newman'),\n",
    "                 (4, to_timestamp('30-12-2010 11:06:01', 'dd-mm-yyyy hh24:mi:ss'), 'Robin', 'Williams'),\n",
    "                 (5, to_timestamp('16-06-2020 23:13:29', 'dd-mm-yyyy hh24:mi:ss'), 'Robert', 'De Niro' ),\n",
    "                 (6, to_timestamp('26-05-2018 04:51:44', 'dd-mm-yyyy hh24:mi:ss'), 'Christian', 'Bale'),\n",
    "                 (7, to_timestamp('17-07-2020 09:47:32', 'dd-mm-yyyy hh24:mi:ss'), 'Dustin', 'Hoffman'),\n",
    "                 (8, to_timestamp('30-12-2010 11:06:01', 'dd-mm-yyyy hh24:mi:ss'), 'Denzel', 'Washington'),\n",
    "                 (9, to_timestamp('16-06-2020 23:13:29', 'dd-mm-yyyy hh24:mi:ss'), 'Tom', 'Hanks'),\n",
    "                 (10, to_timestamp('26-05-2018 04:51:44', 'dd-mm-yyyy hh24:mi:ss'), 'Daniel', 'Day-Lewis'),\n",
    "                 (11, to_timestamp('17-07-2020 09:47:32', 'dd-mm-yyyy hh24:mi:ss'), 'Brad', 'Pitt'),\n",
    "                 (12, to_timestamp('30-12-2010 11:06:01', 'dd-mm-yyyy hh24:mi:ss'), 'Harrison', 'Ford'),\n",
    "                 (13, to_timestamp('20-01-2022 14:12:18', 'dd-mm-yyyy hh24:mi:ss'), 'Rassel', 'Crowe'),\n",
    "                 (14, to_timestamp('26-05-2021 04:51:44', 'dd-mm-yyyy hh24:mi:ss'), 'Joaquin', 'Phoenix'),\n",
    "                 (15, to_timestamp('17-07-2016 09:47:32', 'dd-mm-yyyy hh24:mi:ss'), 'Clint', 'Eastwood'),\n",
    "                 (16, to_timestamp('30-12-2015 11:06:01', 'dd-mm-yyyy hh24:mi:ss'), 'Robin', 'Williams'),\n",
    "                 (17, to_timestamp('16-06-2007 23:13:29', 'dd-mm-yyyy hh24:mi:ss'), 'Morgan', 'Freeman' ),\n",
    "                 (18, to_timestamp('26-05-2002 04:51:44', 'dd-mm-yyyy hh24:mi:ss'), 'Al', 'Pachino'),\n",
    "                 (19, to_timestamp('27-10-2012 05:17:28', 'dd-mm-yyyy hh24:mi:ss'), 'Leonardo', 'Dicaprio'),\n",
    "                 (20, to_timestamp('23-11-2011 11:06:01', 'dd-mm-yyyy hh24:mi:ss'), 'Zendaya', '')\n",
    "                 \n",
    "        \"\"\"\n",
    "execute_query(query)\n",
    "  "
   ]
  },
  {
   "cell_type": "code",
   "execution_count": 250,
   "id": "127a1dab-9b01-4829-b854-4e2ba02feaf9",
   "metadata": {},
   "outputs": [],
   "source": [
    "query = \"\"\" insert into likes (user_id, created, user_id_give)\n",
    "            values\n",
    "                 (1, to_timestamp('20-01-2022 14:12:18', 'dd-mm-yyyy hh24:mi:ss'), '20'),\n",
    "                 (2, to_timestamp('26-05-2018 04:51:44', 'dd-mm-yyyy hh24:mi:ss'), '20'),\n",
    "                 (3, to_timestamp('17-07-2020 09:47:32', 'dd-mm-yyyy hh24:mi:ss'), '20'),\n",
    "                 (4, to_timestamp('30-12-2010 11:06:01', 'dd-mm-yyyy hh24:mi:ss'), '20'),\n",
    "                 (5, to_timestamp('16-06-2020 23:13:29', 'dd-mm-yyyy hh24:mi:ss'), '20' ),\n",
    "                 (6, to_timestamp('26-05-2018 04:51:44', 'dd-mm-yyyy hh24:mi:ss'), '20'),\n",
    "                 (7, to_timestamp('17-07-2020 09:47:32', 'dd-mm-yyyy hh24:mi:ss'), '20'),\n",
    "                 (8, to_timestamp('30-12-2010 11:06:01', 'dd-mm-yyyy hh24:mi:ss'), '20'),\n",
    "                 (9, to_timestamp('16-06-2020 23:13:29', 'dd-mm-yyyy hh24:mi:ss'), '20'),\n",
    "                 (10, to_timestamp('26-05-2018 04:51:44', 'dd-mm-yyyy hh24:mi:ss'), '20'),\n",
    "                 (11, to_timestamp('17-07-2020 09:47:32', 'dd-mm-yyyy hh24:mi:ss'), '20'),\n",
    "                 (12, to_timestamp('30-12-2010 11:06:01', 'dd-mm-yyyy hh24:mi:ss'), '20'),\n",
    "                 (13, to_timestamp('20-01-2022 14:12:18', 'dd-mm-yyyy hh24:mi:ss'), '20'),\n",
    "                 (14, to_timestamp('26-05-2021 04:51:44', 'dd-mm-yyyy hh24:mi:ss'), '20'),\n",
    "                 (15, to_timestamp('17-07-2016 09:47:32', 'dd-mm-yyyy hh24:mi:ss'), '20'),\n",
    "                 (16, to_timestamp('30-12-2015 11:06:01', 'dd-mm-yyyy hh24:mi:ss'), '20'),\n",
    "                 (17, to_timestamp('16-06-2007 23:13:29', 'dd-mm-yyyy hh24:mi:ss'), '20' ),\n",
    "                 (18, to_timestamp('26-05-2002 04:51:44', 'dd-mm-yyyy hh24:mi:ss'), '20'),\n",
    "                 (19, to_timestamp('27-10-2012 05:17:28', 'dd-mm-yyyy hh24:mi:ss'), '20'),\n",
    "                 (20, to_timestamp('23-11-2011 11:06:01', 'dd-mm-yyyy hh24:mi:ss'), '4')\n",
    "                 \n",
    "        \"\"\"\n",
    "execute_query(query)"
   ]
  },
  {
   "cell_type": "code",
   "execution_count": 228,
   "id": "ecb88ab9-6179-4e15-8416-6360e982cad6",
   "metadata": {},
   "outputs": [
    {
     "name": "stdout",
     "output_type": "stream",
     "text": [
      "0 Record(user_id=1, created=datetime.datetime(2022, 1, 20, 14, 12, 18), user_id_give=20)\n",
      "1 Record(user_id=2, created=datetime.datetime(2018, 5, 26, 4, 51, 44), user_id_give=20)\n",
      "2 Record(user_id=3, created=datetime.datetime(2020, 7, 17, 9, 47, 32), user_id_give=20)\n",
      "3 Record(user_id=4, created=datetime.datetime(2010, 12, 30, 11, 6, 1), user_id_give=20)\n",
      "4 Record(user_id=5, created=datetime.datetime(2020, 6, 16, 23, 13, 29), user_id_give=20)\n",
      "5 Record(user_id=6, created=datetime.datetime(2018, 5, 26, 4, 51, 44), user_id_give=20)\n",
      "6 Record(user_id=7, created=datetime.datetime(2020, 7, 17, 9, 47, 32), user_id_give=20)\n",
      "7 Record(user_id=8, created=datetime.datetime(2010, 12, 30, 11, 6, 1), user_id_give=20)\n",
      "8 Record(user_id=9, created=datetime.datetime(2020, 6, 16, 23, 13, 29), user_id_give=20)\n",
      "9 Record(user_id=10, created=datetime.datetime(2018, 5, 26, 4, 51, 44), user_id_give=20)\n",
      "10 Record(user_id=11, created=datetime.datetime(2020, 7, 17, 9, 47, 32), user_id_give=20)\n",
      "11 Record(user_id=12, created=datetime.datetime(2010, 12, 30, 11, 6, 1), user_id_give=20)\n",
      "12 Record(user_id=13, created=datetime.datetime(2022, 1, 20, 14, 12, 18), user_id_give=20)\n",
      "13 Record(user_id=14, created=datetime.datetime(2021, 5, 26, 4, 51, 44), user_id_give=20)\n",
      "14 Record(user_id=15, created=datetime.datetime(2016, 7, 17, 9, 47, 32), user_id_give=20)\n",
      "15 Record(user_id=16, created=datetime.datetime(2015, 12, 30, 11, 6, 1), user_id_give=20)\n",
      "16 Record(user_id=17, created=datetime.datetime(2007, 6, 16, 23, 13, 29), user_id_give=20)\n",
      "17 Record(user_id=18, created=datetime.datetime(2002, 5, 26, 4, 51, 44), user_id_give=20)\n",
      "18 Record(user_id=19, created=datetime.datetime(2012, 10, 27, 5, 17, 28), user_id_give=20)\n",
      "19 Record(user_id=20, created=datetime.datetime(2011, 11, 23, 11, 6, 1), user_id_give=4)\n"
     ]
    }
   ],
   "source": [
    "all_rows = execute_query(\"select * from likes\", fetch_result=True)\n",
    "for row, value in enumerate(all_rows):\n",
    "    print(row, value)"
   ]
  },
  {
   "cell_type": "code",
   "execution_count": 231,
   "id": "49a1b167-d686-453d-ae77-b463653008e4",
   "metadata": {},
   "outputs": [
    {
     "name": "stdout",
     "output_type": "stream",
     "text": [
      "0 Record(user_id=1, count=1)\n"
     ]
    }
   ],
   "source": [
    "all_rows = execute_query(\"select user_id, count(*) from likes where user_id=1 group by user_id\", fetch_result=True)\n",
    "for row, value in enumerate(all_rows):\n",
    "    print(row, value)"
   ]
  },
  {
   "cell_type": "code",
   "execution_count": 232,
   "id": "b8967b2d-d809-4549-aad9-c77844cd95b1",
   "metadata": {},
   "outputs": [
    {
     "name": "stdout",
     "output_type": "stream",
     "text": [
      "0 Record(from_id=20, from_name='Zendaya', from_surname='', to_id=4, to_name='Robin')\n",
      "1 Record(from_id=2, from_name='Tom', from_surname='Cruise', to_id=20, to_name='Zendaya')\n",
      "2 Record(from_id=3, from_name='Paul', from_surname='Newman', to_id=20, to_name='Zendaya')\n",
      "3 Record(from_id=4, from_name='Robin', from_surname='Williams', to_id=20, to_name='Zendaya')\n",
      "4 Record(from_id=5, from_name='Robert', from_surname='De Niro', to_id=20, to_name='Zendaya')\n",
      "5 Record(from_id=6, from_name='Christian', from_surname='Bale', to_id=20, to_name='Zendaya')\n",
      "6 Record(from_id=7, from_name='Dustin', from_surname='Hoffman', to_id=20, to_name='Zendaya')\n",
      "7 Record(from_id=8, from_name='Denzel', from_surname='Washington', to_id=20, to_name='Zendaya')\n",
      "8 Record(from_id=9, from_name='Tom', from_surname='Hanks', to_id=20, to_name='Zendaya')\n",
      "9 Record(from_id=10, from_name='Daniel', from_surname='Day-Lewis', to_id=20, to_name='Zendaya')\n",
      "10 Record(from_id=1, from_name='Sean', from_surname='Penn', to_id=20, to_name='Zendaya')\n",
      "11 Record(from_id=12, from_name='Harrison', from_surname='Ford', to_id=20, to_name='Zendaya')\n",
      "12 Record(from_id=13, from_name='Rassel', from_surname='Crowe', to_id=20, to_name='Zendaya')\n",
      "13 Record(from_id=14, from_name='Joaquin', from_surname='Phoenix', to_id=20, to_name='Zendaya')\n",
      "14 Record(from_id=15, from_name='Clint', from_surname='Eastwood', to_id=20, to_name='Zendaya')\n",
      "15 Record(from_id=16, from_name='Robin', from_surname='Williams', to_id=20, to_name='Zendaya')\n",
      "16 Record(from_id=17, from_name='Morgan', from_surname='Freeman', to_id=20, to_name='Zendaya')\n",
      "17 Record(from_id=18, from_name='Al', from_surname='Pachino', to_id=20, to_name='Zendaya')\n",
      "18 Record(from_id=19, from_name='Leonardo', from_surname='Dicaprio', to_id=20, to_name='Zendaya')\n",
      "19 Record(from_id=11, from_name='Brad', from_surname='Pitt', to_id=20, to_name='Zendaya')\n"
     ]
    }
   ],
   "source": [
    "query = \"\"\"select\n",
    "                l.user_id as from_id,\n",
    "                u.name as from_name,\n",
    "                u.surname as from_surname,\n",
    "                l.user_id_give as to_id,\n",
    "                us.name as to_name\n",
    "           from likes l\n",
    "           left join users u\n",
    "           on l.user_id=u.user_id\n",
    "           left join users us\n",
    "           on l.user_id_give=us.user_id\n",
    "           \n",
    "        \"\"\"\n",
    "all_rows = execute_query(query, fetch_result=True)\n",
    "for row, value in enumerate(all_rows):\n",
    "    print(row, value)\n",
    "    "
   ]
  },
  {
   "cell_type": "code",
   "execution_count": 240,
   "id": "da3fb78a-1e96-4f4a-90b4-5419c1d8bf72",
   "metadata": {},
   "outputs": [
    {
     "name": "stdout",
     "output_type": "stream",
     "text": [
      "0 Record(from_id=8, sender_name='Denzel', like_count=1)\n",
      "1 Record(from_id=10, sender_name='Daniel', like_count=1)\n",
      "2 Record(from_id=9, sender_name='Tom', like_count=1)\n",
      "3 Record(from_id=2, sender_name='Tom', like_count=2)\n",
      "4 Record(from_id=11, sender_name='Brad', like_count=1)\n",
      "5 Record(from_id=12, sender_name='Harrison', like_count=1)\n",
      "6 Record(from_id=7, sender_name='Dustin', like_count=1)\n",
      "7 Record(from_id=20, sender_name='Zendaya', like_count=1)\n",
      "8 Record(from_id=17, sender_name='Morgan', like_count=1)\n",
      "9 Record(from_id=19, sender_name='Leonardo', like_count=1)\n",
      "10 Record(from_id=15, sender_name='Clint', like_count=1)\n",
      "11 Record(from_id=3, sender_name='Paul', like_count=1)\n",
      "12 Record(from_id=16, sender_name='Robin', like_count=1)\n",
      "13 Record(from_id=13, sender_name='Rassel', like_count=1)\n",
      "14 Record(from_id=6, sender_name='Christian', like_count=1)\n",
      "15 Record(from_id=4, sender_name='Robin', like_count=1)\n",
      "16 Record(from_id=18, sender_name='Al', like_count=1)\n",
      "17 Record(from_id=1, sender_name='Sean', like_count=3)\n",
      "18 Record(from_id=14, sender_name='Joaquin', like_count=1)\n",
      "19 Record(from_id=5, sender_name='Robert', like_count=1)\n"
     ]
    }
   ],
   "source": [
    "query = \"\"\"select\n",
    "                l.user_id as from_id,\n",
    "                u.name as sender_name,\n",
    "                count(*) as like_count\n",
    "                \n",
    "           from likes l\n",
    "           left join users u\n",
    "           on l.user_id=u.user_id\n",
    "           group by l.user_id, u.name\n",
    "           \n",
    "        \"\"\"\n",
    "all_rows = execute_query(query, fetch_result=True)\n",
    "for row, value in enumerate(all_rows):\n",
    "    print(row, value)\n",
    "    "
   ]
  },
  {
   "cell_type": "code",
   "execution_count": 310,
   "id": "69e45763-ee16-4810-85e0-5b7ef10c8819",
   "metadata": {},
   "outputs": [],
   "source": [
    "query = \"\"\" INSERT INTO likes (user_id, created, user_id_give) \n",
    "            VALUES \n",
    "                 (1, to_timestamp('16-05-2021 15:36:38', 'dd-mm-yyyy hh24:mi:ss'), 1)\n",
    "                 \n",
    "\n",
    "                 \n",
    "            \n",
    "        \"\"\"\n",
    "\n",
    "execute_query(query)"
   ]
  },
  {
   "cell_type": "code",
   "execution_count": 267,
   "id": "54cbea73-bea2-4535-b388-481451e7c188",
   "metadata": {},
   "outputs": [
    {
     "name": "stdout",
     "output_type": "stream",
     "text": [
      "0 Record(user_id=1, count=3)\n",
      "1 Record(user_id=2, count=2)\n",
      "2 Record(user_id=3, count=1)\n",
      "3 Record(user_id=4, count=1)\n",
      "4 Record(user_id=5, count=1)\n",
      "5 Record(user_id=6, count=1)\n",
      "6 Record(user_id=7, count=1)\n",
      "7 Record(user_id=8, count=1)\n",
      "8 Record(user_id=9, count=1)\n",
      "9 Record(user_id=10, count=1)\n",
      "10 Record(user_id=11, count=1)\n",
      "11 Record(user_id=12, count=1)\n",
      "12 Record(user_id=13, count=1)\n",
      "13 Record(user_id=14, count=1)\n",
      "14 Record(user_id=15, count=1)\n",
      "15 Record(user_id=16, count=1)\n",
      "16 Record(user_id=17, count=1)\n",
      "17 Record(user_id=18, count=1)\n",
      "18 Record(user_id=19, count=1)\n"
     ]
    }
   ],
   "source": [
    "query = \"\"\"select user_id, count (user_id_give) from likes where user_id_give = '20' group by user_id\n",
    "           \n",
    "        \"\"\"\n",
    "# Кто сколько лайков поставил Зендае\n",
    "\n",
    "all_rows = execute_query(query, fetch_result=True)\n",
    "for row, value in enumerate(all_rows):\n",
    "    print(row, value)"
   ]
  },
  {
   "cell_type": "code",
   "execution_count": 313,
   "id": "1d2978ff-67ac-4e03-8597-713a9e4af26b",
   "metadata": {},
   "outputs": [
    {
     "name": "stdout",
     "output_type": "stream",
     "text": [
      "0 Record(sender_id=1, sender_name='Sean', sender_surname='Penn', recipient_id=1, amount_of_sent_likes=1)\n",
      "1 Record(sender_id=1, sender_name='Sean', sender_surname='Penn', recipient_id=20, amount_of_sent_likes=3)\n",
      "2 Record(sender_id=2, sender_name='Tom', sender_surname='Cruise', recipient_id=20, amount_of_sent_likes=2)\n",
      "3 Record(sender_id=3, sender_name='Paul', sender_surname='Newman', recipient_id=20, amount_of_sent_likes=1)\n",
      "4 Record(sender_id=4, sender_name='Robin', sender_surname='Williams', recipient_id=20, amount_of_sent_likes=1)\n",
      "5 Record(sender_id=5, sender_name='Robert', sender_surname='De Niro', recipient_id=20, amount_of_sent_likes=1)\n",
      "6 Record(sender_id=6, sender_name='Christian', sender_surname='Bale', recipient_id=20, amount_of_sent_likes=1)\n",
      "7 Record(sender_id=7, sender_name='Dustin', sender_surname='Hoffman', recipient_id=20, amount_of_sent_likes=1)\n",
      "8 Record(sender_id=8, sender_name='Denzel', sender_surname='Washington', recipient_id=20, amount_of_sent_likes=1)\n",
      "9 Record(sender_id=9, sender_name='Tom', sender_surname='Hanks', recipient_id=20, amount_of_sent_likes=1)\n",
      "10 Record(sender_id=10, sender_name='Daniel', sender_surname='Day-Lewis', recipient_id=20, amount_of_sent_likes=1)\n",
      "11 Record(sender_id=11, sender_name='Brad', sender_surname='Pitt', recipient_id=20, amount_of_sent_likes=1)\n",
      "12 Record(sender_id=12, sender_name='Harrison', sender_surname='Ford', recipient_id=20, amount_of_sent_likes=1)\n",
      "13 Record(sender_id=13, sender_name='Rassel', sender_surname='Crowe', recipient_id=20, amount_of_sent_likes=1)\n",
      "14 Record(sender_id=14, sender_name='Joaquin', sender_surname='Phoenix', recipient_id=20, amount_of_sent_likes=1)\n",
      "15 Record(sender_id=15, sender_name='Clint', sender_surname='Eastwood', recipient_id=20, amount_of_sent_likes=1)\n",
      "16 Record(sender_id=16, sender_name='Robin', sender_surname='Williams', recipient_id=20, amount_of_sent_likes=1)\n",
      "17 Record(sender_id=17, sender_name='Morgan', sender_surname='Freeman', recipient_id=20, amount_of_sent_likes=1)\n",
      "18 Record(sender_id=18, sender_name='Al', sender_surname='Pachino', recipient_id=20, amount_of_sent_likes=1)\n",
      "19 Record(sender_id=19, sender_name='Leonardo', sender_surname='Dicaprio', recipient_id=20, amount_of_sent_likes=1)\n",
      "20 Record(sender_id=20, sender_name='Zendaya', sender_surname='', recipient_id=4, amount_of_sent_likes=1)\n"
     ]
    }
   ],
   "source": [
    "query = \"\"\"select\n",
    "                u.user_id as sender_id,\n",
    "                u.name as sender_name,\n",
    "                u.surname as sender_surname,\n",
    "                l.user_id_give as recipient_id,\n",
    "                \n",
    "                count(*) as amount_of_sent_likes\n",
    "                \n",
    "           from likes l\n",
    "           left join users u\n",
    "           on l.user_id=u.user_id\n",
    "           \n",
    "           group by l.user_id_give, u.name, u.surname, u.user_id order by u.user_id\n",
    "           \n",
    "           \n",
    "        \"\"\"\n",
    "# Кому и сколько пользователь оптарвлял лайки.\n",
    "\n",
    "all_rows = execute_query(query, fetch_result=True)\n",
    "for row, value in enumerate(all_rows):\n",
    "    print(row, value)\n",
    "    "
   ]
  },
  {
   "cell_type": "code",
   "execution_count": 1,
   "id": "dbaec537-a4bd-4919-a699-cedf4a807bb8",
   "metadata": {},
   "outputs": [
    {
     "ename": "NameError",
     "evalue": "name 'i' is not defined",
     "output_type": "error",
     "traceback": [
      "\u001b[1;31m---------------------------------------------------------------------------\u001b[0m",
      "\u001b[1;31mNameError\u001b[0m                                 Traceback (most recent call last)",
      "Cell \u001b[1;32mIn [1], line 1\u001b[0m\n\u001b[1;32m----> 1\u001b[0m \u001b[38;5;28mprint\u001b[39m(\u001b[38;5;124m\"\u001b[39m\u001b[38;5;124m(\u001b[39m\u001b[38;5;124m'\u001b[39m\u001b[38;5;124mP00\u001b[39m\u001b[38;5;124m\"\u001b[39m \u001b[38;5;241m+\u001b[39m \u001b[38;5;28mstr\u001b[39m(\u001b[43mi\u001b[49m) \u001b[38;5;241m+\u001b[39m \u001b[38;5;124m\"\u001b[39m\u001b[38;5;124m'\u001b[39m\u001b[38;5;124m, \u001b[39m\u001b[38;5;124m\"\u001b[39m \u001b[38;5;241m+\u001b[39m \u001b[38;5;124m\"\u001b[39m\u001b[38;5;124m'\u001b[39m\u001b[38;5;124m\"\u001b[39m \u001b[38;5;241m+\u001b[39m \u001b[38;5;28mstr\u001b[39m(create_data()) \u001b[38;5;241m+\u001b[39m \u001b[38;5;124m\"\u001b[39m\u001b[38;5;124m'\u001b[39m\u001b[38;5;124m, \u001b[39m\u001b[38;5;124m'\u001b[39m\u001b[38;5;124m\"\u001b[39m \u001b[38;5;241m+\u001b[39m column_1[random\u001b[38;5;241m.\u001b[39mrandint(\u001b[38;5;241m0\u001b[39m, \u001b[38;5;28mlen\u001b[39m(column_1))\u001b[38;5;241m-\u001b[39m\u001b[38;5;241m1\u001b[39m] \u001b[38;5;241m+\u001b[39m \u001b[38;5;124m\"\u001b[39m\u001b[38;5;124m'\u001b[39m\u001b[38;5;124m, \u001b[39m\u001b[38;5;124m'\u001b[39m\u001b[38;5;124m\"\u001b[39m \u001b[38;5;241m+\u001b[39m column_2[random\u001b[38;5;241m.\u001b[39mrandint(\u001b[38;5;241m0\u001b[39m, \u001b[38;5;28mlen\u001b[39m(column_2))\u001b[38;5;241m-\u001b[39m\u001b[38;5;241m1\u001b[39m] \u001b[38;5;241m+\u001b[39m \u001b[38;5;124m\"\u001b[39m\u001b[38;5;124m'\u001b[39m\u001b[38;5;124m), \u001b[39m\u001b[38;5;124m\"\u001b[39m)\n",
      "\u001b[1;31mNameError\u001b[0m: name 'i' is not defined"
     ]
    }
   ],
   "source": [
    "print(\"('P00\" + str(i) + \"', \" + \"'\" + str(create_data()) + \"', '\" + column_1[random.randint(0, len(column_1))-1] + \"', '\" + column_2[random.randint(0, len(column_2))-1] + \"'), \")\n"
   ]
  },
  {
   "cell_type": "code",
   "execution_count": null,
   "id": "a9521bb2-7601-43f8-9396-2f6af6d125ac",
   "metadata": {},
   "outputs": [],
   "source": []
  }
 ],
 "metadata": {
  "kernelspec": {
   "display_name": "Python 3 (ipykernel)",
   "language": "python",
   "name": "python3"
  },
  "language_info": {
   "codemirror_mode": {
    "name": "ipython",
    "version": 3
   },
   "file_extension": ".py",
   "mimetype": "text/x-python",
   "name": "python",
   "nbconvert_exporter": "python",
   "pygments_lexer": "ipython3",
   "version": "3.10.5"
  }
 },
 "nbformat": 4,
 "nbformat_minor": 5
}
